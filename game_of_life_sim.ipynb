{
  "cells": [
    {
      "cell_type": "markdown",
      "metadata": {
        "colab_type": "text",
        "id": "view-in-github"
      },
      "source": [
        "<a href=\"https://colab.research.google.com/github/JayroMartinez/game_of_life_sim/blob/main/game_of_life_sim.ipynb\" target=\"_parent\"><img src=\"https://colab.research.google.com/assets/colab-badge.svg\" alt=\"Open In Colab\"/></a>"
      ]
    },
    {
      "cell_type": "code",
      "execution_count": null,
      "metadata": {
        "id": "UQMBejXfxk8D"
      },
      "outputs": [],
      "source": [
        "%%bash\n",
        "if [ ! -d game_of_life_sim ]; then\n",
        "  git clone https://github.com/JayroMartinez/game_of_life_sim.git -q\n",
        "else\n",
        "  git -C game_of_life_sim pull -q\n",
        "fi\n",
        "pip install -q -r game_of_life_sim/requirements.txt"
      ]
    },
    {
      "cell_type": "markdown",
      "metadata": {},
      "source": [
        "import os, sys\n",
        "sys.path.append(\"/content/game_of_life_sim/src\")\n",
        "os.chdir(\"/content/game_of_life_sim\")\n",
        "print(\"Environment ready.\")"
      ]
    },
    {
      "cell_type": "code",
      "execution_count": null,
      "metadata": {
        "id": "_5eLzYCx4tsR"
      },
      "outputs": [],
      "source": [
        "!python run_sim.py --size 60 --prob 0.25"
      ]
    },
    {
      "cell_type": "code",
      "execution_count": null,
      "metadata": {
        "id": "RLFRO6AT1boX"
      },
      "outputs": [],
      "source": [
        "!python run_sim.py --runs 10000 --size 60 --prob 0.25"
      ]
    },
    {
      "cell_type": "code",
      "execution_count": null,
      "metadata": {
        "id": "ewEfGeky1eYj"
      },
      "outputs": [],
      "source": [
        "from google.colab import drive\n",
        "drive.mount(\"/content/drive\")\n",
        "\n",
        "!mkdir -p ~/.ssh\n",
        "!cp /content/drive/MyDrive/keys/id_ed25519_life ~/.ssh/\n",
        "!chmod 600 ~/.ssh/id_ed25519_life\n",
        "!ssh-keyscan github.com >> ~/.ssh/known_hosts\n",
        "\n",
        "!git add data/results.csv\n",
        "!git commit -m \"Add new results\"\n",
        "!git push git@github.com:<tu-usuario>/game_of_life_sim.git HEAD:main"
      ]
    }
  ],
  "metadata": {
    "colab": {
      "authorship_tag": "ABX9TyMMCi1jVUEYhkAjNYK3t8b0",
      "include_colab_link": true,
      "provenance": []
    },
    "kernelspec": {
      "display_name": "Python 3",
      "name": "python3"
    },
    "language_info": {
      "name": "python"
    }
  },
  "nbformat": 4,
  "nbformat_minor": 0
}
