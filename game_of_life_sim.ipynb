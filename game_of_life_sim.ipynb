{
 "cells": [
  {
   "cell_type": "markdown",
   "metadata": {
    "colab_type": "text",
    "id": "view-in-github"
   },
   "source": [
    "<a href=\"https://colab.research.google.com/github/JayroMartinez/game_of_life_sim/blob/main/game_of_life_sim.ipynb\" target=\"_parent\"><img src=\"https://colab.research.google.com/assets/colab-badge.svg\" alt=\"Open In Colab\"/></a>"
   ]
  },
  {
   "cell_type": "code",
   "execution_count": 2,
   "metadata": {
    "id": "UQMBejXfxk8D"
   },
   "outputs": [
    {
     "name": "stderr",
     "output_type": "stream",
     "text": [
      "\n",
      "\u001b[1m[\u001b[0m\u001b[34;49mnotice\u001b[0m\u001b[1;39;49m]\u001b[0m\u001b[39;49m A new release of pip is available: \u001b[0m\u001b[31;49m25.0.1\u001b[0m\u001b[39;49m -> \u001b[0m\u001b[32;49m25.1.1\u001b[0m\n",
      "\u001b[1m[\u001b[0m\u001b[34;49mnotice\u001b[0m\u001b[1;39;49m]\u001b[0m\u001b[39;49m To update, run: \u001b[0m\u001b[32;49mpip install --upgrade pip\u001b[0m\n"
     ]
    }
   ],
   "source": [
    "%%bash\n",
    "# CLONE OR UPDATE REPO\n",
    "\n",
    "if [ ! -d game_of_life_sim ]; then\n",
    "  git clone https://github.com/JayroMartinez/game_of_life_sim.git -q\n",
    "else\n",
    "  git -C game_of_life_sim pull -q\n",
    "fi\n",
    "pip install -q -r game_of_life_sim/requirements.txt"
   ]
  },
  {
   "cell_type": "code",
   "execution_count": 3,
   "metadata": {
    "id": "_5eLzYCx4tsR"
   },
   "outputs": [
    {
     "ename": "FileNotFoundError",
     "evalue": "[Errno 2] No such file or directory: '/content/game_of_life_sim'",
     "output_type": "error",
     "traceback": [
      "\u001b[0;31m---------------------------------------------------------------------------\u001b[0m",
      "\u001b[0;31mFileNotFoundError\u001b[0m                         Traceback (most recent call last)",
      "Cell \u001b[0;32mIn[3], line 4\u001b[0m\n\u001b[1;32m      2\u001b[0m \u001b[38;5;28;01mimport\u001b[39;00m\u001b[38;5;250m \u001b[39m\u001b[38;5;21;01mos\u001b[39;00m\u001b[38;5;241m,\u001b[39m\u001b[38;5;250m \u001b[39m\u001b[38;5;21;01msys\u001b[39;00m\n\u001b[1;32m      3\u001b[0m sys\u001b[38;5;241m.\u001b[39mpath\u001b[38;5;241m.\u001b[39mappend(\u001b[38;5;124m\"\u001b[39m\u001b[38;5;124m/content/game_of_life_sim/src\u001b[39m\u001b[38;5;124m\"\u001b[39m)\n\u001b[0;32m----> 4\u001b[0m \u001b[43mos\u001b[49m\u001b[38;5;241;43m.\u001b[39;49m\u001b[43mchdir\u001b[49m\u001b[43m(\u001b[49m\u001b[38;5;124;43m\"\u001b[39;49m\u001b[38;5;124;43m/content/game_of_life_sim\u001b[39;49m\u001b[38;5;124;43m\"\u001b[39;49m\u001b[43m)\u001b[49m\n\u001b[1;32m      5\u001b[0m \u001b[38;5;28mprint\u001b[39m(\u001b[38;5;124m\"\u001b[39m\u001b[38;5;124mEnvironment ready.\u001b[39m\u001b[38;5;124m\"\u001b[39m)\n",
      "\u001b[0;31mFileNotFoundError\u001b[0m: [Errno 2] No such file or directory: '/content/game_of_life_sim'"
     ]
    }
   ],
   "source": [
    "# ENVIRONMENT SETUP\n",
    "import os, sys\n",
    "sys.path.append(\"/content/game_of_life_sim/src\")\n",
    "os.chdir(\"/content/game_of_life_sim\")\n",
    "print(\"Environment ready.\")"
   ]
  },
  {
   "cell_type": "code",
   "execution_count": null,
   "metadata": {
    "id": "RLFRO6AT1boX"
   },
   "outputs": [],
   "source": [
    "# SINGLE GIF SIMULATION UNTIL COLLAPSE\n",
    "# --size: board side length   --prob: initial alive-cell probability\n",
    "import imageio\n",
    "import numpy as np\n",
    "import zlib\n",
    "from src.life_core import life_step\n",
    "from IPython.display import Image, display\n",
    "\n",
    "# parameters\n",
    "size = 60\n",
    "prob = 0.25\n",
    "fps = 10\n",
    "\n",
    "# initialize board\n",
    "board = np.random.rand(size, size) < prob\n",
    "frames = []\n",
    "seen = {zlib.crc32(board.tobytes())}\n",
    "cycles = 0\n",
    "\n",
    "# run until collapse\n",
    "while True:\n",
    "    # capture frame\n",
    "    frames.append((board * 255).astype('uint8'))\n",
    "    # advance one step\n",
    "    board = life_step(board)\n",
    "    cycles += 1\n",
    "    h = zlib.crc32(board.tobytes())\n",
    "    # stop on extinction or cycle detection\n",
    "    if not board.any() or h in seen:\n",
    "        frames.append((board * 255).astype('uint8'))\n",
    "        break\n",
    "    seen.add(h)\n",
    "\n",
    "print(f\"Collapsed after {cycles} cycles\")\n",
    "\n",
    "# write and display GIF\n",
    "gif_path = \"simulation_until_collapse.gif\"\n",
    "imageio.mimsave(gif_path, frames, fps=fps)\n",
    "display(Image(filename=gif_path))"
   ]
  },
  {
   "cell_type": "code",
   "execution_count": null,
   "metadata": {
    "id": "ewEfGeky1eYj"
   },
   "outputs": [],
   "source": [
    "# PARALLEL SIMULATION\n",
    "# --runs: Simulations to run --size: Board size length --prob: Initial alive-cell probability\n",
    "!python run_sim.py --runs 100 --size 60 --prob 0.33"
   ]
  }
 ],
 "metadata": {
  "colab": {
   "authorship_tag": "ABX9TyMMCi1jVUEYhkAjNYK3t8b0",
   "include_colab_link": true,
   "provenance": []
  },
  "kernelspec": {
   "display_name": ".venv",
   "language": "python",
   "name": "python3"
  },
  "language_info": {
   "codemirror_mode": {
    "name": "ipython",
    "version": 3
   },
   "file_extension": ".py",
   "mimetype": "text/x-python",
   "name": "python",
   "nbconvert_exporter": "python",
   "pygments_lexer": "ipython3",
   "version": "3.9.6"
  }
 },
 "nbformat": 4,
 "nbformat_minor": 0
}
