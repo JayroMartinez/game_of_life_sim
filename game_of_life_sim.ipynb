{
  "nbformat": 4,
  "nbformat_minor": 0,
  "metadata": {
    "colab": {
      "provenance": [],
      "authorship_tag": "ABX9TyMMCi1jVUEYhkAjNYK3t8b0",
      "include_colab_link": true
    },
    "kernelspec": {
      "name": "python3",
      "display_name": "Python 3"
    },
    "language_info": {
      "name": "python"
    }
  },
  "cells": [
    {
      "cell_type": "markdown",
      "metadata": {
        "id": "view-in-github",
        "colab_type": "text"
      },
      "source": [
        "<a href=\"https://colab.research.google.com/github/JayroMartinez/game_of_life_sim/blob/main/game_of_life_sim.ipynb\" target=\"_parent\"><img src=\"https://colab.research.google.com/assets/colab-badge.svg\" alt=\"Open In Colab\"/></a>"
      ]
    },
    {
      "cell_type": "code",
      "execution_count": null,
      "metadata": {
        "id": "UQMBejXfxk8D"
      },
      "outputs": [],
      "source": [
        "!git clone https://github.com/JayroMartinez/game_of_life_sim.git -q\n",
        "!pip install -q -r game_of_life_sim/requirements.txt\n",
        "import sys; sys.path.append(\"/content/game_of_life_sim/src\")\n",
        "%cd /content/game_of_life_sim"
      ]
    },
    {
      "cell_type": "code",
      "source": [
        "!python run_sim.py --size 60 --prob 0.25"
      ],
      "metadata": {
        "id": "_5eLzYCx4tsR"
      },
      "execution_count": null,
      "outputs": []
    },
    {
      "cell_type": "code",
      "source": [
        "!python run_sim.py --runs 10000 --size 60 --prob 0.25"
      ],
      "metadata": {
        "id": "RLFRO6AT1boX"
      },
      "execution_count": null,
      "outputs": []
    },
    {
      "cell_type": "code",
      "source": [
        "from google.colab import drive\n",
        "drive.mount(\"/content/drive\")\n",
        "\n",
        "!mkdir -p ~/.ssh\n",
        "!cp /content/drive/MyDrive/keys/id_ed25519_life ~/.ssh/\n",
        "!chmod 600 ~/.ssh/id_ed25519_life\n",
        "!ssh-keyscan github.com >> ~/.ssh/known_hosts\n",
        "\n",
        "!git add data/results.csv\n",
        "!git commit -m \"Add new results\"\n",
        "!git push git@github.com:<tu-usuario>/game_of_life_sim.git HEAD:main"
      ],
      "metadata": {
        "id": "ewEfGeky1eYj"
      },
      "execution_count": null,
      "outputs": []
    }
  ]
}