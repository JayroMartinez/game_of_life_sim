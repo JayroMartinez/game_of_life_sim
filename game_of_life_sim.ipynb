{
 "cells": [
  {
   "cell_type": "markdown",
   "metadata": {
    "colab_type": "text",
    "id": "view-in-github"
   },
   "source": [
    "<a href=\"https://colab.research.google.com/github/JayroMartinez/game_of_life_sim/blob/main/game_of_life_sim.ipynb\" target=\"_parent\"><img src=\"https://colab.research.google.com/assets/colab-badge.svg\" alt=\"Open In Colab\"/></a>"
   ]
  },
  {
   "cell_type": "code",
   "execution_count": null,
   "metadata": {
    "id": "UQMBejXfxk8D"
   },
   "outputs": [],
   "source": [
    "# CLONE OR UPDATE REPO\n",
    "%%bash\n",
    "if [ ! -d game_of_life_sim ]; then\n",
    "  git clone https://github.com/JayroMartinez/game_of_life_sim.git -q\n",
    "else\n",
    "  git -C game_of_life_sim pull -q\n",
    "fi\n",
    "pip install -q -r game_of_life_sim/requirements.txt"
   ]
  },
  {
   "cell_type": "code",
   "execution_count": null,
   "metadata": {
    "id": "_5eLzYCx4tsR"
   },
   "outputs": [],
   "source": [
    "# ENVIRONMENT SETUP\n",
    "import os, sys\n",
    "sys.path.append(\"/content/game_of_life_sim/src\")\n",
    "os.chdir(\"/content/game_of_life_sim\")\n",
    "print(\"Environment ready.\")"
   ]
  },
  {
   "cell_type": "code",
   "execution_count": null,
   "metadata": {
    "id": "RLFRO6AT1boX"
   },
   "outputs": [],
   "source": [
    "# SINGLE ANIMATED SIMULATION\n",
    "# --size: Board size length --prob: Initial alive-cell probability\n",
    "%run -i run_sim.py --size 60 --prob 0.25"
   ]
  },
  {
   "cell_type": "code",
   "execution_count": null,
   "metadata": {
    "id": "ewEfGeky1eYj"
   },
   "outputs": [],
   "source": [
    "# PARALLEL SIMULATION\n",
    "# --runs: Simulations to run --size: Board size length --prob: Initial alive-cell probability\n",
    "!python run_sim.py --runs 100 --size 60 --prob 0.33"
   ]
  }
 ],
 "metadata": {
  "colab": {
   "authorship_tag": "ABX9TyMMCi1jVUEYhkAjNYK3t8b0",
   "include_colab_link": true,
   "provenance": []
  },
  "kernelspec": {
   "display_name": "Python 3",
   "name": "python3"
  },
  "language_info": {
   "name": "python"
  }
 },
 "nbformat": 4,
 "nbformat_minor": 0
}
