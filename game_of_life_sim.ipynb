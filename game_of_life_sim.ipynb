{
 "cells": [
  {
   "cell_type": "markdown",
   "metadata": {
    "colab_type": "text",
    "id": "view-in-github"
   },
   "source": [
    "<a href=\"https://colab.research.google.com/github/JayroMartinez/game_of_life_sim/blob/main/game_of_life_sim.ipynb\" target=\"_parent\"><img src=\"https://colab.research.google.com/assets/colab-badge.svg\" alt=\"Open In Colab\"/></a>"
   ]
  },
  {
   "cell_type": "code",
   "execution_count": null,
   "metadata": {
    "id": "UQMBejXfxk8D"
   },
   "outputs": [],
   "source": [
    "%%bash\n",
    "# CLONE OR UPDATE REPO\n",
    "\n",
    "if [ ! -d game_of_life_sim ]; then\n",
    "  git clone https://github.com/JayroMartinez/game_of_life_sim.git -q\n",
    "else\n",
    "  git -C game_of_life_sim pull -q\n",
    "fi\n",
    "pip install -q -r game_of_life_sim/requirements.txt"
   ]
  },
  {
   "cell_type": "code",
   "execution_count": null,
   "metadata": {
    "id": "_5eLzYCx4tsR"
   },
   "outputs": [],
   "source": [
    "# ENVIRONMENT SETUP\n",
    "import os, sys\n",
    "sys.path.append(\"/content/game_of_life_sim/src\")\n",
    "os.chdir(\"/content/game_of_life_sim\")\n",
    "print(\"Environment ready.\")"
   ]
  },
  {
   "cell_type": "code",
   "execution_count": null,
   "metadata": {
    "id": "RLFRO6AT1boX"
   },
   "outputs": [],
   "source": [
    "# SINGLE GIF SIMULATION UNTIL COLLAPSE (larger + inverted colors)\n",
    "import imageio\n",
    "import numpy as np\n",
    "import zlib\n",
    "from src.life_core import life_step\n",
    "from IPython.display import Image, display\n",
    "\n",
    "# parameters\n",
    "size  = 60       # board side length\n",
    "prob  = 0.25     # initial alive-cell probability\n",
    "fps   = 10       # frames per second\n",
    "scale = 5        # how much to upscale each cell\n",
    "\n",
    "# initialize\n",
    "board = np.random.rand(size, size) < prob\n",
    "frames = []\n",
    "seen = {zlib.crc32(board.tobytes())}\n",
    "cycles = 0\n",
    "\n",
    "# simulate until collapse\n",
    "while True:\n",
    "    # create 0–255 image, invert so living=0 (black), dead=255 (white)\n",
    "    img = ((~board).astype(np.uint8)) * 255\n",
    "    # upscale each pixel by `scale`\n",
    "    big = np.kron(img, np.ones((scale, scale), dtype=np.uint8))\n",
    "    frames.append(big)\n",
    "\n",
    "    # next generation\n",
    "    board = life_step(board)\n",
    "    cycles += 1\n",
    "    h = zlib.crc32(board.tobytes())\n",
    "    if not board.any() or h in seen:\n",
    "        # final frame\n",
    "        img = ((~board).astype(np.uint8)) * 255\n",
    "        big = np.kron(img, np.ones((scale, scale), dtype=np.uint8))\n",
    "        frames.append(big)\n",
    "        break\n",
    "    seen.add(h)\n",
    "\n",
    "print(f\"Collapsed after {cycles} cycles\")\n",
    "\n",
    "# write and display GIF\n",
    "gif_path = \"simulation_until_collapse.gif\"\n",
    "imageio.mimsave(gif_path, frames, fps=fps)\n",
    "display(Image(filename=gif_path))"
   ]
  },
  {
   "cell_type": "code",
   "execution_count": null,
   "metadata": {
    "id": "ewEfGeky1eYj"
   },
   "outputs": [],
   "source": [
    "# PARALLEL SIMULATION\n",
    "# --runs: Simulations to run --size: Board size length --prob: Initial alive-cell probability\n",
    "!python run_sim.py --runs 100 --size 60 --prob 0.33"
   ]
  }
 ],
 "metadata": {
  "colab": {
   "authorship_tag": "ABX9TyMMCi1jVUEYhkAjNYK3t8b0",
   "include_colab_link": true,
   "provenance": []
  },
  "kernelspec": {
   "display_name": ".venv",
   "language": "python",
   "name": "python3"
  },
  "language_info": {
   "codemirror_mode": {
    "name": "ipython",
    "version": 3
   },
   "file_extension": ".py",
   "mimetype": "text/x-python",
   "name": "python",
   "nbconvert_exporter": "python",
   "pygments_lexer": "ipython3",
   "version": "3.9.6"
  }
 },
 "nbformat": 4,
 "nbformat_minor": 0
}
